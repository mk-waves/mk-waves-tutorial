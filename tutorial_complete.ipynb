{
 "cells": [
  {
   "cell_type": "code",
   "execution_count": null,
   "id": "5958b7b0-9e76-4038-8739-51099eb24fdd",
   "metadata": {},
   "outputs": [],
   "source": [
    "# Given\n",
    "import netCDF4\n",
    "import numpy as np\n",
    "import matplotlib.pyplot as plt\n",
    "import datetime\n",
    "import time\n",
    "import calendar\n",
    "import pandas as pd\n",
    "from matplotlib import gridspec"
   ]
  },
  {
   "cell_type": "markdown",
   "id": "7bc603ed-9e43-49f1-858b-55519d3eb63b",
   "metadata": {},
   "source": [
    "[Link to other buoys](https://cdip.ucsd.edu/m/deployment/station_view/)"
   ]
  },
  {
   "cell_type": "code",
   "execution_count": null,
   "id": "720462ee-22f6-4d34-ba0b-cec57a029e13",
   "metadata": {},
   "outputs": [],
   "source": [
    "# Type\n",
    "stn = '071'\n",
    "startdate = \"01/01/2014\"\n",
    "enddate = \"12/30/2016\""
   ]
  },
  {
   "cell_type": "code",
   "execution_count": null,
   "id": "f53df605-44e9-4a96-833c-f9484b2d1b4d",
   "metadata": {},
   "outputs": [],
   "source": [
    "# Given\n",
    "# CDIP Archived Dataset URL\n",
    "data_url = 'http://thredds.cdip.ucsd.edu/thredds/dodsC/cdip/archive/' + stn + 'p1/' + stn + 'p1_historic.nc'"
   ]
  },
  {
   "cell_type": "code",
   "execution_count": null,
   "id": "2cd2df49-2d67-4984-803b-e5d1a53b9430",
   "metadata": {},
   "outputs": [],
   "source": [
    "# Given\n",
    "data = netCDF4.Dataset(data_url)"
   ]
  },
  {
   "cell_type": "code",
   "execution_count": null,
   "id": "dc47cc64-1aec-4f8f-bac6-dc4520f0643f",
   "metadata": {},
   "outputs": [],
   "source": [
    "# Other Variables\n",
    "# data.variables\n",
    "# Hs = data.variables['waveHs']\n",
    "# Tp = data.variables['waveTp']\n",
    "# Dp = data.variables['waveDp'] "
   ]
  },
  {
   "cell_type": "markdown",
   "id": "69e9317a-34d2-400f-a2e1-456718de9316",
   "metadata": {},
   "source": [
    "[Code taken from](http://cdip.ucsd.edu/themes/?zoom=auto&tz=UTC&ll_fmt=dm&numcolorbands=100&palette=cdip_classic&high=4.572&r=7&un=1&pb=1&d2=p70&u2=s:071:st:1:v:product_descriptions)"
   ]
  },
  {
   "cell_type": "code",
   "execution_count": null,
   "id": "0a0e8412-eb38-4954-a329-deb978d29c9f",
   "metadata": {},
   "outputs": [],
   "source": [
    "ncTime = data.variables['sstTime'][:]\n",
    "timeall = [datetime.datetime.fromtimestamp(t) for t in ncTime] # Convert ncTime variable to datetime stamps\n",
    "\n",
    "# Create a variable of the Buoy Name and Month Name, to use in plot title\n",
    "Harvest_Buoy = data.variables['metaStationName'][:]\n",
    "\n",
    "month_name = calendar.month_name[int(startdate[0:2])]\n",
    "year_num = (startdate[6:10])"
   ]
  },
  {
   "cell_type": "code",
   "execution_count": null,
   "id": "655e30d4-fe44-466d-88e2-ccd259c510ac",
   "metadata": {},
   "outputs": [],
   "source": [
    "def find_nearest(array,value):\n",
    "    idx = (np.abs(array-value)).argmin()\n",
    "    return array[idx]"
   ]
  },
  {
   "cell_type": "code",
   "execution_count": null,
   "id": "9b2bea44-20f0-4671-bc39-9eb7d204448a",
   "metadata": {},
   "outputs": [],
   "source": [
    "def getUnixTimestamp(humanTime,dateFormat):\n",
    "    unixTimestamp = int(time.mktime(datetime.datetime.strptime(humanTime, dateFormat).timetuple()))\n",
    "    return unixTimestamp"
   ]
  },
  {
   "cell_type": "code",
   "execution_count": null,
   "id": "3197bd50-8bfb-4601-94df-bb90186f506a",
   "metadata": {},
   "outputs": [],
   "source": [
    "unixstart = getUnixTimestamp(startdate,\"%m/%d/%Y\") \n",
    "neareststart = find_nearest(ncTime, unixstart)  # Find the closest unix timestamp\n",
    "nearIndex = np.where(ncTime==neareststart)[0][0]  # Grab the index number of found date\n",
    "\n",
    "unixend = getUnixTimestamp(enddate,\"%m/%d/%Y\")\n",
    "future = find_nearest(ncTime, unixend)  # Find the closest unix timestamp\n",
    "futureIndex = np.where(ncTime==future)[0][0]  # Grab the index number of found date"
   ]
  },
  {
   "cell_type": "code",
   "execution_count": null,
   "id": "5da5a939-ab7a-4de3-b14d-6a90afcb7fda",
   "metadata": {},
   "outputs": [],
   "source": [
    "#  ---- Potential start point -----\n",
    "\n",
    "# Get SST timestamp variable \n",
    "sst_time_var = data.variables['sstTime']\n",
    "\n",
    "# Get SST variable \n",
    "sst = data.variables['sstSeaSurfaceTemperature'][:]\n",
    "\n",
    "# Add waveheight and maybe direction/maybe energy"
   ]
  },
  {
   "cell_type": "markdown",
   "id": "9c008bc3-9524-4e95-84b7-451756ca509b",
   "metadata": {},
   "source": [
    "[cftime documentation](https://unidata.github.io/cftime/)"
   ]
  },
  {
   "cell_type": "code",
   "execution_count": null,
   "id": "b9fcf58a-4fff-45d5-9a46-1585f5c108bc",
   "metadata": {},
   "outputs": [],
   "source": [
    "# Use num2date on sst_time_var\n",
    "sst_time = netCDF4.num2date(sst_time_var[:], sst_time_var.units, only_use_cftime_datetimes=False)"
   ]
  },
  {
   "cell_type": "code",
   "execution_count": null,
   "id": "9ea6161f-72b2-433f-90b0-f903682e6c41",
   "metadata": {},
   "outputs": [],
   "source": [
    "# Make an empty pandas dataframe\n",
    "sst_df = pd.DataFrame()\n",
    "\n",
    "# Fill it with SST and the date time it was collected\n",
    "sst_df['sst'] = sst\n",
    "sst_df['date_time'] = sst_time"
   ]
  },
  {
   "cell_type": "code",
   "execution_count": null,
   "id": "762b3ff9-1809-4b87-aa46-6adf504cac34",
   "metadata": {},
   "outputs": [],
   "source": [
    "# Make date_time column a pandas date_time\n",
    "sst_df['date_time'] = pd.to_datetime(sst_df['date_time']) "
   ]
  },
  {
   "cell_type": "code",
   "execution_count": null,
   "id": "a6da2dc5-215a-472c-b5fa-f276bd78bdce",
   "metadata": {},
   "outputs": [],
   "source": [
    "# Pull out date from datetime\n",
    "sst_df['date'] = sst_df['date_time'].dt.date\n",
    "\n",
    "# Pull out month from datetime\n",
    "sst_df['month'] = sst_df['date_time'].dt.month\n",
    "\n",
    "# Pull out year from datetime\n",
    "sst_df['year'] = sst_df['date_time'].dt.year"
   ]
  },
  {
   "cell_type": "code",
   "execution_count": null,
   "id": "8474cabd-16f5-439c-a6da-312c848cfc7a",
   "metadata": {},
   "outputs": [],
   "source": [
    "# Plot here to see what the data looks like\n",
    "plt.figure(figsize = (10, 5))\n",
    "plt.plot(sst_df.date, sst_df.sst, linewidth = .5)"
   ]
  },
  {
   "cell_type": "code",
   "execution_count": null,
   "id": "f4c932fb-81ff-4ac7-9d16-50ee898f8c7e",
   "metadata": {},
   "outputs": [],
   "source": [
    "# Filter data to be greater than 1997 to dump missing values\n",
    "sst_df = sst_df[sst_df['year'] > 1997]"
   ]
  },
  {
   "cell_type": "code",
   "execution_count": null,
   "id": "ab9442db-0da2-43d3-8dd8-e3251d57375e",
   "metadata": {},
   "outputs": [],
   "source": [
    "# Inspect data\n",
    "sst_df.head()"
   ]
  },
  {
   "cell_type": "code",
   "execution_count": null,
   "id": "06ab83d4-fb9b-4733-9f11-5e6738981ab6",
   "metadata": {},
   "outputs": [],
   "source": [
    "# Group by date and summarise with mean SST\n",
    "sst_daily = sst_df.groupby('date').agg({'sst': 'mean', 'month': 'first', 'year': 'first'})"
   ]
  },
  {
   "cell_type": "code",
   "execution_count": null,
   "id": "dbe84eed-90cb-4bdc-a9da-c505ca66814d",
   "metadata": {},
   "outputs": [],
   "source": [
    "# Inspect Data\n",
    "sst_daily.head()"
   ]
  },
  {
   "cell_type": "code",
   "execution_count": null,
   "id": "2bdd57c6-fc59-4752-9bbb-5fb5b83ed6d9",
   "metadata": {},
   "outputs": [],
   "source": [
    "# PLot daily values\n",
    "plt.figure(figsize = (10, 5))\n",
    "plt.plot(sst_daily.index, sst_daily.sst)"
   ]
  },
  {
   "cell_type": "code",
   "execution_count": null,
   "id": "1a32c745-4048-459f-8d71-e2e72b6172f0",
   "metadata": {},
   "outputs": [],
   "source": [
    "# Calculate 30 day rolling average\n",
    "sst_roll = sst_daily.rolling(window = 30).mean()"
   ]
  },
  {
   "cell_type": "code",
   "execution_count": null,
   "id": "a35c46ae-037d-4d2b-9d3e-da356bdedcf4",
   "metadata": {},
   "outputs": [],
   "source": [
    "# Plot monthly average\n",
    "plt.figure(figsize = (10, 5))\n",
    "plt.plot(sst_roll.index, sst_roll.sst)"
   ]
  }
 ],
 "metadata": {
  "kernelspec": {
   "display_name": "Python 3",
   "language": "python",
   "name": "python3"
  },
  "language_info": {
   "codemirror_mode": {
    "name": "ipython",
    "version": 3
   },
   "file_extension": ".py",
   "mimetype": "text/x-python",
   "name": "python",
   "nbconvert_exporter": "python",
   "pygments_lexer": "ipython3",
   "version": "3.8.8"
  }
 },
 "nbformat": 4,
 "nbformat_minor": 5
}
