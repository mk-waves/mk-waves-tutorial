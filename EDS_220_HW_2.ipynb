{
 "cells": [
  {
   "cell_type": "markdown",
   "id": "ca9ab16e-98a3-4ddb-aa88-189c53ee8276",
   "metadata": {},
   "source": [
    "\n",
    "# Making Waves\n",
    "Cullen Molitor<br>\n",
    "Marie Rivers<br>\n",
    "Jake Eisaguirre<br>\n",
    "\n",
    "<hr>"
   ]
  },
  {
   "cell_type": "markdown",
   "id": "f5d77322-1055-411e-b27d-9579402e77fb",
   "metadata": {},
   "source": [
    "## 1. Write code to load in the dataset\n",
    "\n",
    "For our project we chose to use data from the [Coastal Data Information Program (CDIP)](https://cdip.ucsd.edu/) from the [Scripps Institute of Oceanography (SIO)](https://scripps.ucsd.edu/). To access our data (observed and modeled) we will use a [python API](https://cdip.ucsd.edu/m/documents/data_access.html) to load in our netCDF files. We chose the [Harvest Buoy (CDIP site)](http://cdip.ucsd.edu/themes/?d2=p9:s:71:st:1:m:mobile) to get information close to our local coasts. The metadata is documented on the [CDIP informational site](https://cdip.ucsd.edu/m/documents/intro.html#) .\n",
    "\n",
    "### Import Python Modules"
   ]
  },
  {
   "cell_type": "code",
   "execution_count": null,
   "id": "bfa64817-fbe9-4e21-9e35-0c0ebcd6b296",
   "metadata": {},
   "outputs": [],
   "source": [
    "import netCDF4\n",
    "import numpy as np\n",
    "import matplotlib.pyplot as plt\n",
    "import datetime\n",
    "import time\n",
    "import calendar\n",
    "\n",
    "from matplotlib import gridspec"
   ]
  },
  {
   "cell_type": "markdown",
   "id": "f9b04cb0-0c4f-4c67-894d-f81a65af3ef6",
   "metadata": {},
   "source": [
    "### Pick the Buoy and Date Range of Interest\n",
    "\n",
    "We used `stn = '071'` to select the [Harvest buoy (NDBC)](https://www.ndbc.noaa.gov/station_page.php?station=46218) located west of Point Conception and north of the Channel Islands.Our chosen date range is between October of 2015 and March of 2016 to highlight the largest El Niño event on record. \n"
   ]
  },
  {
   "cell_type": "code",
   "execution_count": null,
   "id": "301bb33e-0ecb-4e56-82f1-0eb750b92733",
   "metadata": {},
   "outputs": [],
   "source": [
    "stn = '071'\n",
    "startdate = \"10/01/2015\"\n",
    "enddate = \"03/30/2016\""
   ]
  },
  {
   "cell_type": "markdown",
   "id": "fc22b611-f147-4bed-b0e6-e4e7c0fb47a4",
   "metadata": {},
   "source": [
    "### Load the Data\n",
    "Next we use the `netCDF4` module to read in the archived buoy data. "
   ]
  },
  {
   "cell_type": "code",
   "execution_count": null,
   "id": "eff65ca5-2393-4f2d-8e5e-2a6b2d87097c",
   "metadata": {},
   "outputs": [],
   "source": [
    "# CDIP Archived Dataset URL\n",
    "data_url = 'http://thredds.cdip.ucsd.edu/thredds/dodsC/cdip/archive/' + stn + 'p1/' + stn + 'p1_historic.nc'\n",
    "\n",
    "# CDIP Realtime Dataset URL \n",
    "# data_url = 'http://thredds.cdip.ucsd.edu/thredds/dodsC/cdip/realtime/' + stn + 'p1_rt.nc'\n",
    "\n",
    "data = netCDF4.Dataset(data_url)"
   ]
  },
  {
   "cell_type": "code",
   "execution_count": null,
   "id": "d0b50b7a-5334-4fa5-a9e6-93caa5594b98",
   "metadata": {},
   "outputs": [],
   "source": [
    "# ### Uncoment for full list of variables\n",
    "# data.variables"
   ]
  },
  {
   "cell_type": "markdown",
   "id": "3000fe83-1372-4350-bcdb-427403296894",
   "metadata": {},
   "source": [
    "### Explore the Variables of Interest\n",
    "\n",
    "The Harvest buoy collects data in the following categories:\n",
    "\n",
    "- Significant Wave Height  \n",
    "- Swell Height \n",
    "- Swell Period \n",
    "- Swell Direction \n",
    "- Wind Wave Height \n",
    "- Wind Wave Period \n",
    "- Wind Wave Direction \n",
    "- Wave Steepness \n",
    "- Average Wave Period \n",
    "- Water Temperature\n",
    "\n",
    "We are interested in:\n",
    "\n",
    "- Significant Wave Height (`waveHs`)\n",
    "- Swell Period (`waveTp`)\n",
    "- Swell Direction (`waveDp`)\n",
    "\n",
    "We subset for these data with `data.variables['variable_name']` to create three smaller dataframes."
   ]
  },
  {
   "cell_type": "code",
   "execution_count": null,
   "id": "822a693a-d22d-46a2-8c0a-7154c084ddcc",
   "metadata": {},
   "outputs": [],
   "source": [
    "Hs = data.variables['waveHs']\n",
    "Tp = data.variables['waveTp']\n",
    "Dp = data.variables['waveDp'] "
   ]
  },
  {
   "cell_type": "markdown",
   "id": "723abf6a-5d23-4761-824d-f88508614136",
   "metadata": {},
   "source": [
    "### Significant Wave Height (`waveHs`)"
   ]
  },
  {
   "cell_type": "code",
   "execution_count": null,
   "id": "52801d95-bfe6-47be-97f3-164e04a7067a",
   "metadata": {},
   "outputs": [],
   "source": [
    "print(Hs)"
   ]
  },
  {
   "cell_type": "markdown",
   "id": "69151bfd-6dda-4b30-b511-16d206358660",
   "metadata": {},
   "source": [
    "### Swell Period (`waveTp`)"
   ]
  },
  {
   "cell_type": "code",
   "execution_count": null,
   "id": "4b325ac0-8c2f-4b63-92e2-0caf08634284",
   "metadata": {},
   "outputs": [],
   "source": [
    "print(Tp)"
   ]
  },
  {
   "cell_type": "markdown",
   "id": "ad48f971-6069-407a-9ace-ce585f950b5b",
   "metadata": {},
   "source": [
    "### Swell Direction (`waveDp`)"
   ]
  },
  {
   "cell_type": "code",
   "execution_count": null,
   "id": "000ce6b4-61c2-426a-a9e5-844112093545",
   "metadata": {},
   "outputs": [],
   "source": [
    "print(Dp)"
   ]
  },
  {
   "cell_type": "markdown",
   "id": "752d9f0f-7044-4705-999b-45bfc25c747b",
   "metadata": {},
   "source": [
    "## 2. Investigate Data Quality\n",
    "\n",
    "Our initial choice for data to use was a major swell event known as the 'Hanukkah Swell' in the end of 2007. We then realized the buoy was offline for that time period due to a 'Data acquisition failure, Possible battery, power problems.' We found this data gap mentioned in the [activity log](http://cdip.ucsd.edu/themes/cdip?pb=1&d2=p9&u2=s:071:st:1:v:log) on the CDIP website.\n",
    "\n",
    "Other gaps in data coverage are mainly due to maintenance, These gaps are detailed in the activity log (linked above) and include removing and replacing the buoy for scheduled maintenace, mooring replacments, buoy drifting offsite, battery issues, and communication troubles. \n",
    "\n",
    "Overall we found this data to be extrememly high quality. Outliers have been removed by SIO. Using `data.summary` provides insight into how many samples are were collected, when they were collected, and states that records which were flagged for poor quality were not included."
   ]
  },
  {
   "cell_type": "code",
   "execution_count": null,
   "id": "b393472c-6512-467e-b8f9-3d597d5f7d1c",
   "metadata": {},
   "outputs": [],
   "source": [
    "data.summary"
   ]
  },
  {
   "cell_type": "code",
   "execution_count": null,
   "id": "025153b4-5263-46f1-8077-d3793f9a9666",
   "metadata": {},
   "outputs": [],
   "source": [
    "ncTime = data.variables['sstTime'][:]\n",
    "timeall = [datetime.datetime.fromtimestamp(t) for t in ncTime] # Convert ncTime variable to datetime stamps\n",
    "\n",
    "# Create a variable of the Buoy Name and Month Name, to use in plot title\n",
    "Harvest_Buoy = data.variables['metaStationName'][:]\n",
    "\n",
    "month_name = calendar.month_name[int(startdate[0:2])]\n",
    "year_num = (startdate[6:10])"
   ]
  },
  {
   "cell_type": "code",
   "execution_count": null,
   "id": "5cb91fd4-c158-48a9-9d9a-256356bfae40",
   "metadata": {},
   "outputs": [],
   "source": [
    "def find_nearest(array,value):\n",
    "    idx = (np.abs(array-value)).argmin()\n",
    "    return array[idx]"
   ]
  },
  {
   "cell_type": "code",
   "execution_count": null,
   "id": "d4916fce-8744-485d-bd18-1c2624a72eba",
   "metadata": {},
   "outputs": [],
   "source": [
    "def getUnixTimestamp(humanTime,dateFormat):\n",
    "    unixTimestamp = int(time.mktime(datetime.datetime.strptime(humanTime, dateFormat).timetuple()))\n",
    "    return unixTimestamp"
   ]
  },
  {
   "cell_type": "code",
   "execution_count": null,
   "id": "f5d78ffd-a4a0-4d3d-8e69-2e47e56e7304",
   "metadata": {},
   "outputs": [],
   "source": [
    "unixstart = getUnixTimestamp(startdate,\"%m/%d/%Y\") \n",
    "neareststart = find_nearest(ncTime, unixstart)  # Find the closest unix timestamp\n",
    "nearIndex = np.where(ncTime==neareststart)[0][0]  # Grab the index number of found date\n",
    "\n",
    "unixend = getUnixTimestamp(enddate,\"%m/%d/%Y\")\n",
    "future = find_nearest(ncTime, unixend)  # Find the closest unix timestamp\n",
    "futureIndex = np.where(ncTime==future)[0][0]  # Grab the index number of found date"
   ]
  },
  {
   "cell_type": "markdown",
   "id": "8371c783-1fe3-4ee2-86d5-9c9e5d6ebf46",
   "metadata": {},
   "source": [
    "## 3. Consider Appropriate Use Cases\n",
    "\n",
    "Before we decide on appropriate use cases for our data, we wanted to visualize the data to see what we are working with. Below we explore the our initially chosen variables in a simple time series plot. "
   ]
  },
  {
   "cell_type": "code",
   "execution_count": null,
   "id": "188bbf51-59b9-4604-8904-9653e8ce0b14",
   "metadata": {},
   "outputs": [],
   "source": [
    "# Crete figure and specify subplot orientation (3 rows, 1 column), shared x-axis, and figure size\n",
    "f, (pHs, pTp, pDp) = plt.subplots(3, 1, sharex=True, figsize=(15,10)) \n",
    "\n",
    "pHs.plot(timeall[nearIndex:futureIndex],\n",
    "         Hs[nearIndex:futureIndex],'b')\n",
    "\n",
    "pTp.plot(timeall[nearIndex:futureIndex],\n",
    "         Tp[nearIndex:futureIndex],'b')\n",
    "\n",
    "pDp.scatter(timeall[nearIndex:futureIndex],\n",
    "            Dp[nearIndex:futureIndex],color='blue',s=5)\n",
    "\n",
    "plt.suptitle(\"Harvest Buoy\", fontsize=30, y=0.99)\n",
    "\n",
    "plt.title(\"2015/2016 Winter El Nino\", fontsize=20, y=3.45)\n",
    "\n",
    "pHs.set_ylabel('Hs, m', fontsize=18)\n",
    "pTp.set_ylabel('Tp, s', fontsize=18)\n",
    "pDp.set_ylabel('Dp, deg', fontsize=18)"
   ]
  },
  {
   "cell_type": "markdown",
   "id": "f20b0481-b621-4602-b6a4-396a2d4d3a30",
   "metadata": {},
   "source": [
    "### Observational Data vs Modeled Data\n",
    "\n",
    "#### Historic Data (Observational)\n",
    "The historic data is archived and is of great use for understanding past patterns and provides context for understanding the oceanographic conditions of our local ocean. \n",
    "\n",
    "#### Real Time Data (Observational)\n",
    "Real time data gives an better idea of what to expect as wave energy moves past the buoy and towards our shorline. It is also incredibly useful for mariners navigating these sometimes harsh and volotile waters. \n",
    "\n",
    "#### Forecasted Data (Modeled)\n",
    "Forecasted data is perhaps the most practical use case for mariners, as they not only need to know the current conditions but they need to know how those conditions are changing in order to navigate safely. \n",
    "\n",
    "CDIP provide what they call ['nowcasted' data and 'forecasted' data](https://cdip.ucsd.edu/m/documents/models.html#about-the-cdip-wave-forecast-model). \n",
    "- Nowcasted provides insight at a higher resolution for the upcoming 6-hour period. These predictions tend to be more accurate and are generally fairly trustworthy. \n",
    "- Forecasted data provide a look further into the future, but with a greater amount of uncertainty  \n",
    "\n",
    "### General Use Cases\n",
    "\n",
    "- Modeling coastal errosion \n",
    "- Investigating storm frequecny and intensity over time\n",
    "- Investigating changes in SST over time\n",
    "- Detecting upwelling events\n",
    "\n",
    "### Our interest\n",
    "\n",
    "We are interested in investigating the effect of El Niño on our local oceanographic conditions. We would like to plot and compare the 2015-2016 El Niño event against all other time periods to see if there is a noticeable increase in wave energy or a significant divergence in swell direction. "
   ]
  },
  {
   "cell_type": "code",
   "execution_count": null,
   "id": "1303d1f8-3e33-48dd-afbf-95cf710087b6",
   "metadata": {},
   "outputs": [],
   "source": []
  }
 ],
 "metadata": {
  "kernelspec": {
   "display_name": "Python 3",
   "language": "python",
   "name": "python3"
  },
  "language_info": {
   "codemirror_mode": {
    "name": "ipython",
    "version": 3
   },
   "file_extension": ".py",
   "mimetype": "text/x-python",
   "name": "python",
   "nbconvert_exporter": "python",
   "pygments_lexer": "ipython3",
   "version": "3.8.8"
  }
 },
 "nbformat": 4,
 "nbformat_minor": 5
}
