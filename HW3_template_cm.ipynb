{
 "cells": [
  {
   "cell_type": "markdown",
   "id": "abeb2acb",
   "metadata": {},
   "source": [
    "# HW3 Template: Dataset Overview and Use Case Examples\n",
    "## EDS 220, Fall 2021\n",
    "\n",
    "The following is a template you can use for constructing your draft Jupyter notebooks demonstrating the features and use case examples for your chosen environmental datasets. I've included sections addressing the major themes that should be included, but there is also room for customization as well. \n",
    "\n",
    "Many of the resources provided are adapted from this template guide to notebook creation built for the \"EarthCube\" project:\n",
    "https://github.com/earthcube/NotebookTemplates"
   ]
  },
  {
   "cell_type": "markdown",
   "id": "48da6d14",
   "metadata": {},
   "source": [
    "## Template Notebook for EDS 220 HW/Group Project\n",
    "\n",
    "Replace the above with your chosen title. This should include some indication of the dataset you chose, but can also include a 'team title' or short summary of the themes of your analysis. Possible examples taken from the Week 7 sea surface temperature analysis notebook:\n",
    "- ERSSTv5 Sea Surface Temperature \n",
    "- El Nino/Southern Oscillation Overview with ERSSTv5"
   ]
  },
  {
   "cell_type": "markdown",
   "id": "b67f0cbb",
   "metadata": {},
   "source": [
    "## Authors\n",
    "\n",
    "Include the names of everyone in your group! In professional contexts, best practice is to also include up-to-date contact information and any affiliation information: here we're all at UCSB of course, but listing contact info can be helpful nonetheless if you plan to use this notebook later on for any job hunting purposes. \n",
    "\n",
    "An example for this notebook:\n",
    "\n",
    "#### Authors\n",
    "- Samantha Stevenson, UC Santa Barbara (sstevenson@ucsb.edu) <br>\n",
    "  https://www.samanthalstevenson.com/"
   ]
  },
  {
   "cell_type": "markdown",
   "id": "1dd8686b",
   "metadata": {},
   "source": [
    "## Table of Contents\n",
    "\n",
    "Include a summary of the various sections included in your notebook, so that users can easily skip to a section of interest. It's also good to include hyperlinks to the different sections, so that clicking on the heading sends one to that section directly. Examples are below; see also this handy guide to adding hyperlinks to Jupyter notebooks:\n",
    "https://medium.illumidesk.com/jupyter-notebook-little-known-tricks-b0866a558017\n",
    "\n",
    "The major sections you'll need for HW3 - and your group project - are shown below:\n",
    "\n",
    "[1. Purpose](#purpose)\n",
    "\n",
    "[2. Dataset Description](#overview)\n",
    "\n",
    "[3. Data I/O](#io)\n",
    "\n",
    "[4. Metadata Display and Basic Visualization](#display)\n",
    "\n",
    "[5. Use Case Examples](#usecases)\n",
    "\n",
    "[6. Create Binder Environment](#binder)\n",
    "\n",
    "[7. References](#references)"
   ]
  },
  {
   "cell_type": "markdown",
   "id": "9450a7dc",
   "metadata": {},
   "source": [
    "<a id='purpose'></a> \n",
    "### Notebook Purpose\n",
    "\n",
    "State the overall purpose of the notebook. Again, this may seem obvious for this particular case, but can come in handy if you're using the notebook later on!\n",
    "\n",
    "An example for the Week 7 in-class intensive: <br>\n",
    "This notebook was created to provide an introduction to using sea surface temperature data from the NOAA Extended Reconstructed SST dataset version 5 (ERSSTv5) for analysis of El Nino/Southern Oscillation (ENSO) behavior."
   ]
  },
  {
   "cell_type": "markdown",
   "id": "81e07422",
   "metadata": {},
   "source": [
    "<a id='overview'></a> \n",
    "### Dataset Description\n",
    "\n",
    "This portion of the notebook should contain a summary description of your chosen environmental dataset. In a few paragraphs, discuss:\n",
    "- The creators of the dataset: NASA/NOAA/other government agency? Nonprofit? etc.\n",
    "- Major characteristics of the dataset: global coverage? Spatial resolution? Temporal resolution? Creation date? \n",
    "- The file format(s) used to store the data: netCDF? CSV? Other?\n",
    "- The source/archive you will be using to retrieve the data: Google Earth Engine? Agency data portal? Other API?\n",
    "- Any known issues with data quality that might be expected to impact the results\n",
    "\n",
    "Include links to any external resources needed to access the data here, including either the location of files stored on an external server you've set up or the access URL for a pre-existing repository. You can also include any example images you find useful for motivating the choice of dataset (optional).\n",
    "\n",
    "**Here and throughout the notebook:** use a mix of markdown cells and code blocks to demonstrate your code. Markdown cells should be used to describe the purpose of the code blocks which follow them, but _do not replace_ comments within the code block! Make sure to include comments in the code as well illustrating the specific function of the various lines of code. Your later self - and other users - will thank you!"
   ]
  },
  {
   "cell_type": "markdown",
   "id": "644a8da6",
   "metadata": {},
   "source": [
    "<a id='io'></a> \n",
    "### Dataset Input/Output \n",
    "\n",
    "Next, provide code to read in the data necessary for your analysis. This should be in the following order:\n",
    "\n",
    "1) Import all necessary packages (matplotlib, numpy, etc)\n",
    "\n",
    "2) Set any parameters that will be needed during subsequent portions of the notebook. Typical examples of parameters include:\n",
    "- names of any directories where data are stored\n",
    "- ranges of years over which data are valid\n",
    "- any thresholds or latitude/longitude ranges to be used later (e.g. dimensions of NINO3.4 region, threshold SSTA values for El Nino, etc.)\n",
    "\n",
    "3) Read in the data! If the data files are very large, you may want to consider subsetting the portion of files to be read in (see examples of this during notebooks provided in Weeks 7 and 8).\n",
    "\n",
    "_Since we will be running these notebooks in class during Weeks 9 and 10_, here is a good rule of thumb: It's good to aim for a relatively short amount of time needed to read in the data, since otherwise we'll be sitting around waiting for things to load for a long time. A  minute or two for data I/O is probably the max you'll want to target!"
   ]
  },
  {
   "cell_type": "markdown",
   "id": "fcd3ca1e",
   "metadata": {},
   "source": [
    "<a id='display'></a> \n",
    "### Metadata Display and Basic Visualization\n",
    "\n",
    "Next, provide some example commands to take a quick look at what is in your dataset. We've done some things along these lines in class by now, but you should include at least one of:\n",
    "\n",
    "- Metadata display: commands to indicate a) which variables are included in the dataset and their names; b) coordinate information associated with the data variables; c) other important metadata parameters (site names, etc); and d) any important information on missing data\n",
    "- Basic visualization: a \"quick and dirty\" plot showing generally what the data look like. Depending on your dataset, this could be either a time series or a map (no fancy coordinate reference system/projection needed yet)."
   ]
  },
  {
   "cell_type": "markdown",
   "id": "4c81669f",
   "metadata": {},
   "source": [
    "<a id='usecases'></a> \n",
    "### Use Case Examples"
   ]
  },
  {
   "cell_type": "markdown",
   "id": "337896ae",
   "metadata": {},
   "source": [
    "This is the \"meat\" of the notebook, and what will take the majority of the time to present in class. This section should provide:\n",
    "1) A plain-text summary (1-2 paragraphs) of the use case example you have chosen: include the target users and audience, and potential applicability. For example, the Week 7 SST exercise might discuss how the state of the ENSO system can be important for seasonal weather forecasts/coral bleaching outlooks, then mention the typical diagnostics associated with ENSO (i.e. identification of El Nino/La Nina events).\n",
    "\n",
    "2) Markdown and code blocks demonstrating how one walks through the desired use case example. This should be similar to the labs we've done in class: you might want to demonstrate how to isolate a particularly interesting time period, then create an image showing a feature you're interested in, for example.\n",
    "\n",
    "3) A discussion of the results and how they might be extended on further analysis. For example, we are doing El Nino/La Nina composites in class; a natural extension might be to look at individual events to see what their particular impacts were. Or if there are data quality issues which impact the results, you could discuss how these might be mitigated with additional information/analysis.\n",
    "\n",
    "Just keep in mind, you'll have roughly 20 minutes for your full presentation, and that goes surprisingly quickly! Probably 2-3 diagnostics is the most you'll be able to get through (you could try practicing with your group members to get a sense of timing).\n"
   ]
  },
  {
   "cell_type": "markdown",
   "id": "13e15760",
   "metadata": {},
   "source": [
    "<a id='binder'></a> \n",
    "### Create Binder Environment\n",
    "\n",
    "The last step is to create a Binder environment for your project, so that we don't have to spend time configuring everyone's environment each time we switch between group presentations. Instructions are below:\n",
    "\n",
    " - Assemble all of the data needed in your Github repo: Jupyter notebooks, a README file, and any datasets needed (these should be small, if included within the repo). Larger datasets should be stored on a separate server, and access codes included within the Jupyter notebook as discussed above. \n",
    " \n",
    " - Create an _environment_ file: this is a text file which contains information on the packages needed in order to execute your code. The filename should be \"environment.yml\": an example that you can use for the proper syntax is included in this template repo. To determine which packages to include, you'll probably want to start by displaying the packages loaded in your environment: you can use the command `conda list -n [environment_name]` to get a list.\n",
    " \n",
    " More information on environment files can be found here:\n",
    " https://docs.conda.io/projects/conda/en/latest/user-guide/tasks/manage-environments.html#\n",
    "\n",
    " - Create Binder. Use http://mybinder.org to create a  URL for your notebook Binder (you will need to enter your GitHub repo URL). You can also add a Launch Binder button directly to your GitHub repo, by including the following in your README.md:\n",
    "\n",
    "```\n",
    "launch with myBinder\n",
    "[![Binder](https://mybinder.org/badge.svg)](https://mybinder.org/v2/gh/<path to your repo>)\n",
    "```"
   ]
  },
  {
   "cell_type": "markdown",
   "id": "1e067a99",
   "metadata": {},
   "source": [
    "<a id='references'></a> \n",
    "### References\n",
    "\n",
    "List relevant references. Here are some additional resources on creating professional, shareable notebooks you may find useful:\n",
    "\n",
    "1. Notebook sharing guidelines from reproducible-science-curriculum: https://reproducible-science-curriculum.github.io/publication-RR-Jupyter/\n",
    "2. Guide for developing shareable notebooks by Kevin Coakley, SDSC: https://github.com/kevincoakley/sharing-jupyter-notebooks/raw/master/Jupyter-Notebooks-Sharing-Recommendations.pdf\n",
    "3. Guide for sharing notebooks by Andrea Zonca, SDSC: https://zonca.dev/2020/09/how-to-share-jupyter-notebooks.html\n",
    "4. Jupyter Notebook Best Practices: https://towardsdatascience.com/jupyter-notebook-best-practices-f430a6ba8c69\n",
    "5. Introduction to Jupyter templates nbextension: https://towardsdatascience.com/stop-copy-pasting-notebooks-embrace-jupyter-templates-6bd7b6c00b94  \n",
    "    5.1. Table of Contents (Toc2) readthedocs: https://jupyter-contrib-nbextensions.readthedocs.io/en/latest/nbextensions/toc2/README.html  \n",
    "    5.2. Steps to install toc2: https://stackoverflow.com/questions/23435723/installing-ipython-notebook-table-of-contents\n",
    "6. Rule A, Birmingham A, Zuniga C, Altintas I, Huang SC, et al. (2019) Ten simple rules for writing and sharing computational analyses in Jupyter Notebooks. PLOS Computational Biology 15(7): e1007007. https://doi.org/10.1371/journal.pcbi.1007007. Supplementary materials: example notebooks (https://github.com/jupyter-guide/ten-rules-jupyter) and tutorial (https://github.com/ISMB-ECCB-2019-Tutorial-AM4/reproducible-computational-workflows)\n",
    "7. Languages supported by Jupyter kernels: https://github.com/jupyter/jupyter/wiki/Jupyter-kernels\n",
    "8. EarthCube notebooks presented at EC Annual Meeting 2020: https://www.earthcube.org/notebooks\n",
    "9. Manage your Python Virtual Environment with Conda: https://towardsdatascience.com/manage-your-python-virtual-environment-with-conda-a0d2934d5195\n",
    "10. Venv - Creation of Virtual Environments: https://docs.python.org/3/library/venv.html"
   ]
  },
  {
   "cell_type": "code",
   "execution_count": null,
   "id": "3b461b03",
   "metadata": {},
   "outputs": [],
   "source": [
    "import netCDF4\n",
    "import numpy as np\n",
    "import matplotlib.pyplot as plt\n",
    "import datetime\n",
    "import time\n",
    "import calendar\n",
    "import pandas as pd\n",
    "from matplotlib import gridspec"
   ]
  },
  {
   "cell_type": "code",
   "execution_count": null,
   "id": "42b81b75",
   "metadata": {},
   "outputs": [],
   "source": [
    "stn = '071'\n",
    "startdate = \"01/01/2014\"\n",
    "enddate = \"12/30/2016\""
   ]
  },
  {
   "cell_type": "code",
   "execution_count": null,
   "id": "2a6273f3",
   "metadata": {},
   "outputs": [],
   "source": [
    "# CDIP Archived Dataset URL\n",
    "data_url = 'http://thredds.cdip.ucsd.edu/thredds/dodsC/cdip/archive/' + stn + 'p1/' + stn + 'p1_historic.nc'\n",
    "\n",
    "data = netCDF4.Dataset(data_url)"
   ]
  },
  {
   "cell_type": "code",
   "execution_count": null,
   "id": "04cf28f0",
   "metadata": {},
   "outputs": [],
   "source": [
    "Hs = data.variables['waveHs'][:]\n",
    "Sst = data.variables['sstSeaSurfaceTemperature'][:]"
   ]
  },
  {
   "cell_type": "code",
   "execution_count": null,
   "id": "68c9b196",
   "metadata": {},
   "outputs": [],
   "source": [
    "ncTime = data.variables['sstTime'][:]\n",
    "timeall = [datetime.datetime.fromtimestamp(t) for t in ncTime] # Convert ncTime variable to datetime stamps\n",
    "\n",
    "# Create a variable of the Buoy Name and Month Name, to use in plot title\n",
    "Harvest_Buoy = data.variables['metaStationName'][:]\n",
    "\n",
    "month_name = calendar.month_name[int(startdate[0:2])]\n",
    "year_num = (startdate[6:10])"
   ]
  },
  {
   "cell_type": "code",
   "execution_count": null,
   "id": "3dee9fcc",
   "metadata": {},
   "outputs": [],
   "source": [
    "def find_nearest(array,value):\n",
    "    idx = (np.abs(array-value)).argmin()\n",
    "    return array[idx]"
   ]
  },
  {
   "cell_type": "code",
   "execution_count": null,
   "id": "e65c2291",
   "metadata": {},
   "outputs": [],
   "source": [
    "def getUnixTimestamp(humanTime,dateFormat):\n",
    "    unixTimestamp = int(time.mktime(datetime.datetime.strptime(humanTime, dateFormat).timetuple()))\n",
    "    return unixTimestamp"
   ]
  },
  {
   "cell_type": "code",
   "execution_count": null,
   "id": "02717ba6",
   "metadata": {},
   "outputs": [],
   "source": [
    "unixstart = getUnixTimestamp(startdate,\"%m/%d/%Y\") \n",
    "neareststart = find_nearest(ncTime, unixstart)  # Find the closest unix timestamp\n",
    "nearIndex = np.where(ncTime==neareststart)[0][0]  # Grab the index number of found date\n",
    "\n",
    "unixend = getUnixTimestamp(enddate,\"%m/%d/%Y\")\n",
    "future = find_nearest(ncTime, unixend)  # Find the closest unix timestamp\n",
    "futureIndex = np.where(ncTime==future)[0][0]  # Grab the index number of found date"
   ]
  },
  {
   "cell_type": "code",
   "execution_count": null,
   "id": "68fec987",
   "metadata": {},
   "outputs": [],
   "source": [
    "#pulled SST variable and time then created csv and made a rolling average for an UNKNOWN TIME FRAME \n",
    "\n",
    "sst_time_var = data.variables['sstTime']\n",
    "sst_time = netCDF4.num2date(sst_time_var[:], sst_time_var.units, only_use_cftime_datetimes=False)\n",
    "Sst_ts = pd.Series(Sst, index = sst_time)\n",
    "Sst_ts.to_csv('Sst.csv', index = True, header = True)\n",
    "\n",
    "rolling_sst = Sst_ts.rolling(window = 1440).mean()"
   ]
  },
  {
   "cell_type": "code",
   "execution_count": null,
   "id": "7e8240f7",
   "metadata": {},
   "outputs": [],
   "source": [
    "#pulled Hs variable and time then created csv and made a rolling average for an UNKNOWN TIME FRAME\n",
    "\n",
    "wave_time_var = data.variables['waveTime']\n",
    "wave_time = netCDF4.num2date(wave_time_var[:], wave_time_var.units)\n",
    "Hs_ts = pd.Series(Hs, index = wave_time)\n",
    "Hs_ts.to_csv('Hs.csv', index = True, header = True)\n",
    "\n",
    "rolling_hs = Hs_ts.rolling(window = 1440).mean()"
   ]
  },
  {
   "cell_type": "code",
   "execution_count": null,
   "id": "2c44d5d7",
   "metadata": {},
   "outputs": [],
   "source": [
    "print(rolling_hs)"
   ]
  },
  {
   "cell_type": "code",
   "execution_count": null,
   "id": "2840eeed",
   "metadata": {},
   "outputs": [],
   "source": [
    "# Crete figure and specify subplot orientation (2 rows, 1 column), shared x-axis, and figure size\n",
    "f, (pHs, pSst) = plt.subplots(2, 1, sharex=True, figsize=(15,10)) \n",
    "\n",
    "pHs.plot(timeall[nearIndex:futureIndex],\n",
    "         rolling_hs[nearIndex:futureIndex],'b')\n",
    "\n",
    "pSst.plot(timeall[nearIndex:futureIndex],\n",
    "         rolling_sst[nearIndex:futureIndex],'b')\n",
    "\n",
    "plt.title(\"Harvest Buoy\", fontsize=30, y = 2.3)\n",
    "\n",
    "#plt.suptitle(\"2015/2016 Winter El Nino\", fontsize=20, y =2.3)\n",
    "\n",
    "pHs.set_ylabel('Hs, m', fontsize=18)\n",
    "pSst.set_ylabel('Sst, C', fontsize=18)"
   ]
  },
  {
   "cell_type": "code",
   "execution_count": null,
   "id": "ef3e57f4",
   "metadata": {},
   "outputs": [],
   "source": [
    "sst_time_var = data.variables['sstTime']\n",
    "sst_time = netCDF4.num2date(sst_time_var[:], sst_time_var.units, only_use_cftime_datetimes=False)\n",
    "Sst_df = pd.DataFrame()\n",
    "Sst_df['Sst'] = Sst\n",
    "Sst_df['date_time'] = sst_time"
   ]
  },
  {
   "cell_type": "markdown",
   "id": "23272c9e-fec6-429c-b33f-28718f2681c6",
   "metadata": {},
   "source": [
    "[how i resolved above error](https://stackoverflow.com/questions/60958754/typeerror-class-cftime-cftime-datetimegregorian-is-not-convertible-to-date)"
   ]
  },
  {
   "cell_type": "code",
   "execution_count": null,
   "id": "c76f8894-4736-409c-b33b-24c5782be4e1",
   "metadata": {},
   "outputs": [],
   "source": [
    "Sst_df['date_time'] = pd.to_datetime(Sst_df['date_time']) "
   ]
  },
  {
   "cell_type": "code",
   "execution_count": null,
   "id": "6f5f7416-6d06-4dc6-bee6-81cbbe487fdd",
   "metadata": {},
   "outputs": [],
   "source": [
    "Sst_df['date'] = Sst_df['date_time'].dt.date"
   ]
  },
  {
   "cell_type": "code",
   "execution_count": null,
   "id": "d184e5f4-319b-4446-aa68-961fa5255759",
   "metadata": {},
   "outputs": [],
   "source": [
    "Sst_df['month'] = Sst_df['date_time'].dt.month"
   ]
  },
  {
   "cell_type": "code",
   "execution_count": null,
   "id": "38912933-f3fb-4518-8bce-57aa590bd9ae",
   "metadata": {},
   "outputs": [],
   "source": [
    "Sst_df['year'] = Sst_df['date_time'].dt.year"
   ]
  },
  {
   "cell_type": "code",
   "execution_count": null,
   "id": "b4157a11-a8f9-43d8-970d-3adc1fe59b17",
   "metadata": {},
   "outputs": [],
   "source": [
    "Sst_df = Sst_df[Sst_df['year'] > 1997]"
   ]
  },
  {
   "cell_type": "code",
   "execution_count": null,
   "id": "e52555fc-7b29-4994-bc89-85d6ac82ca11",
   "metadata": {},
   "outputs": [],
   "source": [
    "Sst_df.head()"
   ]
  },
  {
   "cell_type": "code",
   "execution_count": null,
   "id": "1815956c-8dbd-4e4e-a994-67e68dde90c3",
   "metadata": {},
   "outputs": [],
   "source": [
    "Sst_daily = Sst_df.groupby('date').agg({'Sst': 'mean', 'month': 'first', 'year': 'first'})"
   ]
  },
  {
   "cell_type": "code",
   "execution_count": null,
   "id": "7bc5d579-bbbb-4543-a20c-02839c8372a5",
   "metadata": {},
   "outputs": [],
   "source": [
    "Sst_daily.head()"
   ]
  },
  {
   "cell_type": "code",
   "execution_count": null,
   "id": "35ddd810-42e1-4ac4-88f0-ddea04da7ba6",
   "metadata": {},
   "outputs": [],
   "source": [
    "plt.figure(figsize = (10, 5))\n",
    "plt.plot(Sst_daily.index, Sst_daily.Sst)"
   ]
  },
  {
   "cell_type": "code",
   "execution_count": null,
   "id": "214cbaa7-adc6-42ee-a049-2894abb0cdfa",
   "metadata": {},
   "outputs": [],
   "source": [
    "Sst_roll = Sst_daily.rolling(window = 30).mean()"
   ]
  },
  {
   "cell_type": "code",
   "execution_count": null,
   "id": "2e736950-c95d-4def-b0e2-0bb1e2850f9f",
   "metadata": {},
   "outputs": [],
   "source": [
    "plt.figure(figsize = (10, 5))\n",
    "plt.plot(Sst_roll.index, Sst_roll.Sst)"
   ]
  },
  {
   "cell_type": "code",
   "execution_count": null,
   "id": "25cae04b-1fd6-4e94-bd55-f2aedeb3e6a6",
   "metadata": {},
   "outputs": [],
   "source": [
    "Sst_daily = Sst_daily.reset_index()"
   ]
  },
  {
   "cell_type": "code",
   "execution_count": null,
   "id": "92d6c12a-78bb-452d-b7a2-a35106045779",
   "metadata": {},
   "outputs": [],
   "source": [
    "Sst_daily"
   ]
  },
  {
   "cell_type": "code",
   "execution_count": null,
   "id": "861499c7-a549-4ab2-88c2-ed4cdbac40d6",
   "metadata": {
    "tags": []
   },
   "outputs": [],
   "source": [
    "sst_monthly = Sst_df.groupby(['month', 'year']).agg({'Sst': 'mean'})"
   ]
  },
  {
   "cell_type": "code",
   "execution_count": null,
   "id": "74566d70-7823-412c-9bea-e5688fdbab61",
   "metadata": {},
   "outputs": [],
   "source": [
    "sst_monthly.head()"
   ]
  },
  {
   "cell_type": "code",
   "execution_count": null,
   "id": "adc711c6-1e59-427c-bb27-df8baa689c22",
   "metadata": {},
   "outputs": [],
   "source": [
    "# sst_monthly = sst_monthly.drop(['year'], axis=1)"
   ]
  },
  {
   "cell_type": "code",
   "execution_count": null,
   "id": "169ae357-36d3-487b-a3e0-76f84dc75a7d",
   "metadata": {},
   "outputs": [],
   "source": [
    "sst_monthly = sst_monthly.reset_index()"
   ]
  },
  {
   "cell_type": "code",
   "execution_count": null,
   "id": "bc9ad11f-171f-47db-8925-e2bcbe819d33",
   "metadata": {},
   "outputs": [],
   "source": [
    "sst_monthly = sst_monthly.assign(day = 1)"
   ]
  },
  {
   "cell_type": "code",
   "execution_count": null,
   "id": "a744dbb1-fe73-4d7c-a67f-5a632368806b",
   "metadata": {},
   "outputs": [],
   "source": [
    "sst_monthly['date'] = pd.to_datetime(sst_monthly[['year', 'month', 'day']])"
   ]
  },
  {
   "cell_type": "code",
   "execution_count": null,
   "id": "d3e81f7a-8885-45ce-9737-4d99b5e4714d",
   "metadata": {},
   "outputs": [],
   "source": [
    "sst_monthly = sst_monthly.sort_values(by=['date'])"
   ]
  },
  {
   "cell_type": "code",
   "execution_count": null,
   "id": "f3773865-e70d-470e-94b5-6081403b844d",
   "metadata": {},
   "outputs": [],
   "source": [
    "sst_monthly = sst_monthly.set_index('date')"
   ]
  },
  {
   "cell_type": "code",
   "execution_count": null,
   "id": "82bf3e80-acd5-42ed-9c0b-8131b3c035cf",
   "metadata": {
    "tags": []
   },
   "outputs": [],
   "source": [
    "plt.figure(figsize = (10, 5))\n",
    "plt.plot(sst_monthly.index, sst_monthly.Sst)"
   ]
  },
  {
   "cell_type": "code",
   "execution_count": null,
   "id": "10f420ed-315a-4948-b5b3-ba92dd84a732",
   "metadata": {},
   "outputs": [],
   "source": [
    "sst_anom = Sst_df.groupby(['month', 'year']).agg({'Sst': 'mean'}) - Sst_df.groupby(['month']).agg({'Sst': 'mean'})"
   ]
  },
  {
   "cell_type": "code",
   "execution_count": null,
   "id": "e03e1a5c-9e9a-433c-aefe-347701590359",
   "metadata": {},
   "outputs": [],
   "source": [
    "sst_anom"
   ]
  },
  {
   "cell_type": "code",
   "execution_count": null,
   "id": "68ec281c-8c56-4b80-9858-f5f9ac3324b9",
   "metadata": {},
   "outputs": [],
   "source": [
    "sst_anom  = sst_anom.reset_index()"
   ]
  },
  {
   "cell_type": "code",
   "execution_count": null,
   "id": "bcf222c6-be74-418d-84ea-232df0d3e1a9",
   "metadata": {},
   "outputs": [],
   "source": [
    "sst_anom = sst_anom.assign(day = 1)"
   ]
  },
  {
   "cell_type": "code",
   "execution_count": null,
   "id": "422662fb-7c8a-44a4-a9d5-a5b92a0a60bd",
   "metadata": {},
   "outputs": [],
   "source": [
    "sst_anom['date'] = pd.to_datetime(sst_anom[['year', 'month', 'day']])"
   ]
  },
  {
   "cell_type": "code",
   "execution_count": null,
   "id": "3ea250ac-811d-42d7-b738-9ff3de8db764",
   "metadata": {},
   "outputs": [],
   "source": [
    "sst_anom = sst_anom.sort_values(by=['date'])"
   ]
  },
  {
   "cell_type": "code",
   "execution_count": null,
   "id": "a63ffd9d-b419-4289-94ed-0190c2ce9bdd",
   "metadata": {},
   "outputs": [],
   "source": [
    "sst_anom = sst_anom.set_index('date')"
   ]
  },
  {
   "cell_type": "code",
   "execution_count": null,
   "id": "9841f73c-005f-43d8-9659-e93800b6c456",
   "metadata": {},
   "outputs": [],
   "source": [
    "from matplotlib import cm"
   ]
  },
  {
   "cell_type": "code",
   "execution_count": null,
   "id": "45d824d3-67d8-47dd-930c-b06752ee6f31",
   "metadata": {},
   "outputs": [],
   "source": [
    "plt.figure(figsize = (15, 5))\n",
    "plt.plot(sst_anom.index, sst_anom.Sst)\n",
    "# plt.scatter(sst_anom.index, sst_anom.Sst, c=cm.hot(np.abs(sst_anom['Sst'])))\n",
    "plt.fill_between(sst_anom.index, sst_anom.Sst, 0, alpha=0.30)\n",
    "plt.axhline(0,color='red')"
   ]
  },
  {
   "cell_type": "code",
   "execution_count": null,
   "id": "fae2abe6-d7ac-4f93-a124-33a3d626baf6",
   "metadata": {},
   "outputs": [],
   "source": [
    "import matplotlib as mpl"
   ]
  },
  {
   "cell_type": "code",
   "execution_count": null,
   "id": "881dbaa2-9a7b-4490-b794-d6f80c09e23e",
   "metadata": {},
   "outputs": [],
   "source": [
    "colourmap = cm.get_cmap('inferno')\n",
    "\n",
    "xx = sst_anom.index\n",
    "yy =  sst_anom.Sst\n",
    "\n",
    "plt.figure(figsize = (15, 5))\n",
    "plt.plot(xx,yy, color = 'none')\n",
    "\n",
    "normalize = mpl.colors.Normalize(vmin=yy.min(), vmax=yy.max())\n",
    "npts = 252\n",
    "for i in range(npts - 1):\n",
    "    plt.fill_between([xx[i], xx[i+1]],\n",
    "                     [yy[i], yy[i+1]],\n",
    "                     color=colourmap(normalize(yy[i]))\n",
    "                     ,alpha=0.6)\n",
    "plt.show()"
   ]
  },
  {
   "cell_type": "code",
   "execution_count": null,
   "id": "c2a1ac7d-a664-4b44-992d-93bfef100439",
   "metadata": {},
   "outputs": [],
   "source": [
    "path = \"https://www.cpc.ncep.noaa.gov/data/indices/ersst5.nino.mth.91-20.ascii\"\n",
    "enso = pd.read_csv(path, sep = '\\s{2,}', engine = 'python')\n",
    "enso"
   ]
  },
  {
   "cell_type": "code",
   "execution_count": null,
   "id": "4effd8ae-41f1-4b09-af95-91df3678e70e",
   "metadata": {},
   "outputs": [],
   "source": [
    "enso = enso.drop(enso.columns[[2, 3, 4, 5, 6, 7, 8]], axis=1)\n",
    "enso = enso.rename(columns={\"YR\":\"year\", \"MON\":\"month\", \"ANOM.3\": \"enso_anom\"})\n",
    "enso"
   ]
  },
  {
   "cell_type": "code",
   "execution_count": null,
   "id": "82df38dd-934c-4814-8503-2074c575bd5a",
   "metadata": {},
   "outputs": [],
   "source": [
    "enso = enso.assign(day = 1)\n",
    "enso['date'] = pd.to_datetime(enso[['year', 'month', 'day']])"
   ]
  },
  {
   "cell_type": "code",
   "execution_count": null,
   "id": "c87944d7-78b2-4c31-8ee2-c74e8bbbf79d",
   "metadata": {},
   "outputs": [],
   "source": [
    "enso"
   ]
  },
  {
   "cell_type": "code",
   "execution_count": null,
   "id": "4b52c864-22d8-4c88-ae2c-6af06d9443d9",
   "metadata": {},
   "outputs": [],
   "source": [
    "# Choose color gradient here\n",
    "# https://matplotlib.org/stable/tutorials/colors/colormaps.html \n",
    "\n",
    "# Two options\n",
    "# colourmap = cm.get_cmap('magma')\n",
    "colourmap = cm.get_cmap('coolwarm')\n",
    "\n",
    "xx = enso.date\n",
    "yy =  enso.enso_anom\n",
    "\n",
    "plt.figure(figsize = (15, 5))\n",
    "plt.plot(xx,yy, color = 'none')\n",
    "\n",
    "normalize = mpl.colors.Normalize(vmin=yy.min(), vmax=yy.max())\n",
    "npts = 862\n",
    "for i in range(npts - 1):\n",
    "    plt.fill_between([xx[i], xx[i+1]],\n",
    "                     [yy[i], yy[i+1]],\n",
    "                     color=colourmap(normalize(yy[i]))\n",
    "                     ,alpha=0.6)\n",
    "plt.show()"
   ]
  },
  {
   "cell_type": "code",
   "execution_count": null,
   "id": "218367f4-0c6d-4a78-a9c8-642a5da8de3d",
   "metadata": {},
   "outputs": [],
   "source": [
    "sst_anom = sst_anom.reset_index()"
   ]
  },
  {
   "cell_type": "code",
   "execution_count": null,
   "id": "226d5e55-7349-4a77-b947-b1181287454a",
   "metadata": {},
   "outputs": [],
   "source": [
    "enso.head()"
   ]
  },
  {
   "cell_type": "code",
   "execution_count": null,
   "id": "a74ff338-c1fb-44f7-abdf-d3a34a979afa",
   "metadata": {},
   "outputs": [],
   "source": [
    "sst_anom.head()"
   ]
  },
  {
   "cell_type": "code",
   "execution_count": null,
   "id": "5b20a87f-59b9-4cd0-a8da-91a001e1574a",
   "metadata": {},
   "outputs": [],
   "source": [
    "sst_anom = sst_anom.drop(sst_anom.columns[[1,2]], axis=1) "
   ]
  },
  {
   "cell_type": "code",
   "execution_count": null,
   "id": "4dd69ef2-6282-4e3c-ae42-3ae534638169",
   "metadata": {},
   "outputs": [],
   "source": [
    "sst_anom"
   ]
  },
  {
   "cell_type": "code",
   "execution_count": null,
   "id": "1457595a-9f08-4d39-bcfa-da17dfa770ce",
   "metadata": {},
   "outputs": [],
   "source": [
    "#filter for 1998\n",
    "\n",
    "enso_df = sst_anom.join(enso, on = \"date\")"
   ]
  },
  {
   "cell_type": "code",
   "execution_count": null,
   "id": "10c184aa-dc62-45fa-a219-0549d8a1210c",
   "metadata": {},
   "outputs": [],
   "source": []
  }
 ],
 "metadata": {
  "kernelspec": {
   "display_name": "Python 3 (ipykernel)",
   "language": "python",
   "name": "python3"
  },
  "language_info": {
   "codemirror_mode": {
    "name": "ipython",
    "version": 3
   },
   "file_extension": ".py",
   "mimetype": "text/x-python",
   "name": "python",
   "nbconvert_exporter": "python",
   "pygments_lexer": "ipython3",
   "version": "3.9.7"
  }
 },
 "nbformat": 4,
 "nbformat_minor": 5
}
